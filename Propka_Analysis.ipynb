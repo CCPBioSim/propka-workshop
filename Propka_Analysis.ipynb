{
 "cells": [
  {
   "cell_type": "markdown",
   "metadata": {},
   "source": [
    "# Propka analysis of a protein structure\n",
    "\n",
    "This tutorial illustrates the application of [Propka](https://github.com/jensengroup/propka-3.1) to the analysis of the pKas of acidic and basic residues in the structure of the cysteine protease cruzein (PDB code 2oz2).\n",
    "\n",
    "`Propka` is a command-line application and you will work with it in the terminal window. This Jupyter notebook window provides the step-by-step instructions, and also the molecular structure viewer.\n",
    "\n",
    "In addition to `Propka` itself, the tutorial makes use of two further Python packages:\n",
    " - [nglview](http://nglviewer.org/nglview/latest/): A package to embed a molecular viewer in a Jupyter notebook.\n",
    " - [mdtraj](http://www.mdtraj.org): a very useful trajectory analysis package.\n",
    " \n",
    "## Prerequisites:\n",
    "\n",
    "You must have the Python packages `propka`, `nglviewer` and `mdtraj` installed.\n",
    "\n",
    "All can be installed using `pip`:\n",
    "\n",
    "    pip install mdtraj\n",
    "    pip install nglviewer\n",
    "    pip install propka\n",
    "\n",
    "\n",
    "You also need a copy of the PDB file `2oz2.pdb` in the `./data` directory below the one you launch this notebook from. If it's not already here, download it from the [PDB website](http://www.rcsb.org/structure/2oz2).\n",
    "\n",
    "-----\n",
    "\n",
    "In this first cell we check we have everything we need to run the tutorial:"
   ]
  },
  {
   "cell_type": "code",
   "execution_count": null,
   "metadata": {},
   "outputs": [],
   "source": [
    "OK = True\n",
    "import subprocess\n",
    "import os.path as op\n",
    "pdb_file = 'data/2oz2.pdb'\n",
    "try:\n",
    "    import mdtraj as mdt\n",
    "except ImportError:\n",
    "    print('Error: you do not seem to have the MDTraj Python package installed')\n",
    "    OK = False\n",
    "\n",
    "result = subprocess.call('which propka3', shell=True)\n",
    "if result != 0:\n",
    "    print('Error: you do not seem to have Propka installed')\n",
    "    OK = False\n",
    "    \n",
    "try:\n",
    "    import nglview as nv\n",
    "except ImportError:\n",
    "    print('Error: you don\\'t seem to have nglview installed - use pip or similar to get it then try again.')\n",
    "    OK = False\n",
    "\n",
    "if not op.exists(pdb_file):\n",
    "    print('Error: you don\\'t seem to have the data file {} in this directory.'.format(pdb_file))\n",
    "    OK = False\n",
    "\n",
    "if OK is False:\n",
    "    print('This notebook will not work until you fix these issues')\n",
    "else:\n",
    "    print('Success: you seem to have all the packages installed that are needed.')"
   ]
  },
  {
   "cell_type": "markdown",
   "metadata": {},
   "source": [
    "## Part 1: visualisation of the protein.\n",
    "\n",
    "In this cell we load the pdb file and visualize it using nglviewer:"
   ]
  },
  {
   "cell_type": "code",
   "execution_count": null,
   "metadata": {},
   "outputs": [],
   "source": [
    "traj = mdt.load(pdb_file)\n",
    "view = nv.show_mdtraj(traj)\n",
    "view"
   ]
  },
  {
   "cell_type": "markdown",
   "metadata": {},
   "source": [
    "If you look carefully at the structure above you will see that it contains two copies of the protein, as that was what was seen in the crystal structure unit cell. At the interface between the two you can see the two copies of the ligand molecule. In the PDB file one copy of the protein is labelled as chain A, and the other as chain C. We will analyse each of these independently.\n",
    "\n",
    "## Part 2: Pka prediction using Propka\n",
    "\n",
    "Propka is a command line tool, not a Python function, so in the terminal window type:\n",
    "\n",
    "    propka3 data/2oz2.pdb -c A\n",
    "    \n",
    "At the end of the output is a table of the predicted pKa of each acidic and basic residue. Which out of Asp57 and Asp60 is predicted to be protonated at physiological pH?\n",
    "\n",
    "There is another acidic residue with an unusually high pKa – which is it? From examination of the structure, can you explain why?\n",
    "\n",
    "If you run the code in the next cell, it will change the view of the protein in the cell above to zoom in on this region to help you answer this question."
   ]
  },
  {
   "cell_type": "code",
   "execution_count": null,
   "metadata": {},
   "outputs": [],
   "source": [
    "view.clear_representations()\n",
    "view.add_cartoon(':A and protein')\n",
    "view.add_representation('ball+stick', ':A and acidic')\n",
    "view.add_representation('label', '57:A.CB')\n",
    "view.add_representation('label', '60:A.CB')\n",
    "view.add_representation('label', '50:A.CB')\n",
    "view.center('50:A')"
   ]
  },
  {
   "cell_type": "markdown",
   "metadata": {},
   "source": [
    "Back in the terminal window, repeat the analysis on the other protein chain, and compare the results:\n",
    "\n",
    "    propka3 data/2oz2.pdb -c C\n",
    "   \n",
    "You will probbaly notice some differences, though not large. If you run the code in the cell below it will reset the molecule view above to zoom in on the relevant region:"
   ]
  },
  {
   "cell_type": "code",
   "execution_count": null,
   "metadata": {},
   "outputs": [],
   "source": [
    "view.clear_representations()\n",
    "view.add_cartoon(':B and protein')\n",
    "view.add_representation('ball+stick', ':B and acidic')\n",
    "view.add_representation('label', '57:B.CB')\n",
    "view.add_representation('label', '60:B.CB')\n",
    "view.add_representation('label', '50:B.CB')\n",
    "view.center('50:B')"
   ]
  },
  {
   "cell_type": "markdown",
   "metadata": {},
   "source": [
    "## Exercise\n",
    "\n",
    "What about the histidine residues in this structure? Are they predicted to be neutral or protonated? Adapt the code in the cell above to zoom in on other \"interesting\" regions of the protein.\n",
    "\n",
    "\n",
    "## Summary\n",
    "\n",
    "The microenvironment inside a protein is a very different place from bulk water, and so the true pKas of ionizable groups can be significantly different from what you might expect. Using a tool like `Propka` is a vital step in preparing a protein for biomolecular simulation."
   ]
  },
  {
   "cell_type": "code",
   "execution_count": null,
   "metadata": {},
   "outputs": [],
   "source": []
  }
 ],
 "metadata": {
  "kernelspec": {
   "display_name": "Python 3",
   "language": "python",
   "name": "python3"
  },
  "language_info": {
   "codemirror_mode": {
    "name": "ipython",
    "version": 3
   },
   "file_extension": ".py",
   "mimetype": "text/x-python",
   "name": "python",
   "nbconvert_exporter": "python",
   "pygments_lexer": "ipython3",
   "version": "3.7.6"
  }
 },
 "nbformat": 4,
 "nbformat_minor": 2
}
